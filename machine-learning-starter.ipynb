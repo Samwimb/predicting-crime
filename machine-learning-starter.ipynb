{
 "cells": [
  {
   "cell_type": "code",
   "execution_count": 1,
   "metadata": {},
   "outputs": [
    {
     "name": "stderr",
     "output_type": "stream",
     "text": [
      "/anaconda3/lib/python3.7/site-packages/tensorflow/python/framework/dtypes.py:516: FutureWarning: Passing (type, 1) or '1type' as a synonym of type is deprecated; in a future version of numpy, it will be understood as (type, (1,)) / '(1,)type'.\n",
      "  _np_qint8 = np.dtype([(\"qint8\", np.int8, 1)])\n",
      "/anaconda3/lib/python3.7/site-packages/tensorflow/python/framework/dtypes.py:517: FutureWarning: Passing (type, 1) or '1type' as a synonym of type is deprecated; in a future version of numpy, it will be understood as (type, (1,)) / '(1,)type'.\n",
      "  _np_quint8 = np.dtype([(\"quint8\", np.uint8, 1)])\n",
      "/anaconda3/lib/python3.7/site-packages/tensorflow/python/framework/dtypes.py:518: FutureWarning: Passing (type, 1) or '1type' as a synonym of type is deprecated; in a future version of numpy, it will be understood as (type, (1,)) / '(1,)type'.\n",
      "  _np_qint16 = np.dtype([(\"qint16\", np.int16, 1)])\n",
      "/anaconda3/lib/python3.7/site-packages/tensorflow/python/framework/dtypes.py:519: FutureWarning: Passing (type, 1) or '1type' as a synonym of type is deprecated; in a future version of numpy, it will be understood as (type, (1,)) / '(1,)type'.\n",
      "  _np_quint16 = np.dtype([(\"quint16\", np.uint16, 1)])\n",
      "/anaconda3/lib/python3.7/site-packages/tensorflow/python/framework/dtypes.py:520: FutureWarning: Passing (type, 1) or '1type' as a synonym of type is deprecated; in a future version of numpy, it will be understood as (type, (1,)) / '(1,)type'.\n",
      "  _np_qint32 = np.dtype([(\"qint32\", np.int32, 1)])\n",
      "/anaconda3/lib/python3.7/site-packages/tensorflow/python/framework/dtypes.py:525: FutureWarning: Passing (type, 1) or '1type' as a synonym of type is deprecated; in a future version of numpy, it will be understood as (type, (1,)) / '(1,)type'.\n",
      "  np_resource = np.dtype([(\"resource\", np.ubyte, 1)])\n",
      "/anaconda3/lib/python3.7/site-packages/tensorboard/compat/tensorflow_stub/dtypes.py:541: FutureWarning: Passing (type, 1) or '1type' as a synonym of type is deprecated; in a future version of numpy, it will be understood as (type, (1,)) / '(1,)type'.\n",
      "  _np_qint8 = np.dtype([(\"qint8\", np.int8, 1)])\n",
      "/anaconda3/lib/python3.7/site-packages/tensorboard/compat/tensorflow_stub/dtypes.py:542: FutureWarning: Passing (type, 1) or '1type' as a synonym of type is deprecated; in a future version of numpy, it will be understood as (type, (1,)) / '(1,)type'.\n",
      "  _np_quint8 = np.dtype([(\"quint8\", np.uint8, 1)])\n",
      "/anaconda3/lib/python3.7/site-packages/tensorboard/compat/tensorflow_stub/dtypes.py:543: FutureWarning: Passing (type, 1) or '1type' as a synonym of type is deprecated; in a future version of numpy, it will be understood as (type, (1,)) / '(1,)type'.\n",
      "  _np_qint16 = np.dtype([(\"qint16\", np.int16, 1)])\n",
      "/anaconda3/lib/python3.7/site-packages/tensorboard/compat/tensorflow_stub/dtypes.py:544: FutureWarning: Passing (type, 1) or '1type' as a synonym of type is deprecated; in a future version of numpy, it will be understood as (type, (1,)) / '(1,)type'.\n",
      "  _np_quint16 = np.dtype([(\"quint16\", np.uint16, 1)])\n",
      "/anaconda3/lib/python3.7/site-packages/tensorboard/compat/tensorflow_stub/dtypes.py:545: FutureWarning: Passing (type, 1) or '1type' as a synonym of type is deprecated; in a future version of numpy, it will be understood as (type, (1,)) / '(1,)type'.\n",
      "  _np_qint32 = np.dtype([(\"qint32\", np.int32, 1)])\n",
      "/anaconda3/lib/python3.7/site-packages/tensorboard/compat/tensorflow_stub/dtypes.py:550: FutureWarning: Passing (type, 1) or '1type' as a synonym of type is deprecated; in a future version of numpy, it will be understood as (type, (1,)) / '(1,)type'.\n",
      "  np_resource = np.dtype([(\"resource\", np.ubyte, 1)])\n"
     ]
    },
    {
     "data": {
      "text/html": [
       "<div>\n",
       "<style scoped>\n",
       "    .dataframe tbody tr th:only-of-type {\n",
       "        vertical-align: middle;\n",
       "    }\n",
       "\n",
       "    .dataframe tbody tr th {\n",
       "        vertical-align: top;\n",
       "    }\n",
       "\n",
       "    .dataframe thead th {\n",
       "        text-align: right;\n",
       "    }\n",
       "</style>\n",
       "<table border=\"1\" class=\"dataframe\">\n",
       "  <thead>\n",
       "    <tr style=\"text-align: right;\">\n",
       "      <th></th>\n",
       "      <th>Unnamed: 0</th>\n",
       "      <th>DATE</th>\n",
       "      <th>CCN</th>\n",
       "      <th>STATION</th>\n",
       "      <th>NAME</th>\n",
       "      <th>PRCP</th>\n",
       "      <th>TMAX</th>\n",
       "      <th>TMIN</th>\n",
       "      <th>Year</th>\n",
       "      <th>Month</th>\n",
       "      <th>Date</th>\n",
       "      <th>Day</th>\n",
       "      <th>Illum</th>\n",
       "    </tr>\n",
       "  </thead>\n",
       "  <tbody>\n",
       "    <tr>\n",
       "      <th>0</th>\n",
       "      <td>0</td>\n",
       "      <td>1/1/16</td>\n",
       "      <td>103</td>\n",
       "      <td>USC00186350</td>\n",
       "      <td>NATIONAL ARBORETUM DC, MD US</td>\n",
       "      <td>0.0</td>\n",
       "      <td>56</td>\n",
       "      <td>41</td>\n",
       "      <td>2016</td>\n",
       "      <td>1</td>\n",
       "      <td>1</td>\n",
       "      <td>6</td>\n",
       "      <td>0.60</td>\n",
       "    </tr>\n",
       "    <tr>\n",
       "      <th>1</th>\n",
       "      <td>1</td>\n",
       "      <td>1/2/16</td>\n",
       "      <td>93</td>\n",
       "      <td>USC00186350</td>\n",
       "      <td>NATIONAL ARBORETUM DC, MD US</td>\n",
       "      <td>0.0</td>\n",
       "      <td>46</td>\n",
       "      <td>31</td>\n",
       "      <td>2016</td>\n",
       "      <td>1</td>\n",
       "      <td>2</td>\n",
       "      <td>7</td>\n",
       "      <td>0.50</td>\n",
       "    </tr>\n",
       "    <tr>\n",
       "      <th>2</th>\n",
       "      <td>2</td>\n",
       "      <td>1/3/16</td>\n",
       "      <td>100</td>\n",
       "      <td>USC00186350</td>\n",
       "      <td>NATIONAL ARBORETUM DC, MD US</td>\n",
       "      <td>0.0</td>\n",
       "      <td>48</td>\n",
       "      <td>29</td>\n",
       "      <td>2016</td>\n",
       "      <td>1</td>\n",
       "      <td>3</td>\n",
       "      <td>1</td>\n",
       "      <td>0.41</td>\n",
       "    </tr>\n",
       "    <tr>\n",
       "      <th>3</th>\n",
       "      <td>3</td>\n",
       "      <td>1/4/16</td>\n",
       "      <td>77</td>\n",
       "      <td>USC00186350</td>\n",
       "      <td>NATIONAL ARBORETUM DC, MD US</td>\n",
       "      <td>0.0</td>\n",
       "      <td>53</td>\n",
       "      <td>29</td>\n",
       "      <td>2016</td>\n",
       "      <td>1</td>\n",
       "      <td>4</td>\n",
       "      <td>2</td>\n",
       "      <td>0.32</td>\n",
       "    </tr>\n",
       "    <tr>\n",
       "      <th>4</th>\n",
       "      <td>4</td>\n",
       "      <td>1/5/16</td>\n",
       "      <td>92</td>\n",
       "      <td>USC00186350</td>\n",
       "      <td>NATIONAL ARBORETUM DC, MD US</td>\n",
       "      <td>0.0</td>\n",
       "      <td>38</td>\n",
       "      <td>15</td>\n",
       "      <td>2016</td>\n",
       "      <td>1</td>\n",
       "      <td>5</td>\n",
       "      <td>3</td>\n",
       "      <td>0.23</td>\n",
       "    </tr>\n",
       "  </tbody>\n",
       "</table>\n",
       "</div>"
      ],
      "text/plain": [
       "   Unnamed: 0    DATE  CCN      STATION                          NAME  PRCP  \\\n",
       "0           0  1/1/16  103  USC00186350  NATIONAL ARBORETUM DC, MD US   0.0   \n",
       "1           1  1/2/16   93  USC00186350  NATIONAL ARBORETUM DC, MD US   0.0   \n",
       "2           2  1/3/16  100  USC00186350  NATIONAL ARBORETUM DC, MD US   0.0   \n",
       "3           3  1/4/16   77  USC00186350  NATIONAL ARBORETUM DC, MD US   0.0   \n",
       "4           4  1/5/16   92  USC00186350  NATIONAL ARBORETUM DC, MD US   0.0   \n",
       "\n",
       "   TMAX  TMIN  Year  Month  Date  Day  Illum  \n",
       "0    56    41  2016      1     1    6   0.60  \n",
       "1    46    31  2016      1     2    7   0.50  \n",
       "2    48    29  2016      1     3    1   0.41  \n",
       "3    53    29  2016      1     4    2   0.32  \n",
       "4    38    15  2016      1     5    3   0.23  "
      ]
     },
     "execution_count": 1,
     "metadata": {},
     "output_type": "execute_result"
    }
   ],
   "source": [
    "import pandas as pd\n",
    "from sklearn.model_selection import train_test_split\n",
    "from sklearn import preprocessing\n",
    "from sklearn.preprocessing import LabelEncoder, MinMaxScaler\n",
    "from sklearn.metrics import log_loss\n",
    "from sklearn.naive_bayes import BernoulliNB\n",
    "from sklearn.linear_model import LogisticRegression\n",
    "from tensorflow.keras.utils import to_categorical\n",
    "import numpy as np\n",
    " \n",
    "#Load Data with pandas, and parse the first column into datetime\n",
    "# train=pd.read_csv('train.csv', parse_dates = ['Dates'])\n",
    "# test=pd.read_csv('test.csv', parse_dates = ['Dates'])\n",
    "data=pd.read_csv('data/combined_weather_crime_lunar_final.csv')\n",
    "data.head()"
   ]
  },
  {
   "cell_type": "code",
   "execution_count": 2,
   "metadata": {},
   "outputs": [
    {
     "data": {
      "text/html": [
       "<div>\n",
       "<style scoped>\n",
       "    .dataframe tbody tr th:only-of-type {\n",
       "        vertical-align: middle;\n",
       "    }\n",
       "\n",
       "    .dataframe tbody tr th {\n",
       "        vertical-align: top;\n",
       "    }\n",
       "\n",
       "    .dataframe thead th {\n",
       "        text-align: right;\n",
       "    }\n",
       "</style>\n",
       "<table border=\"1\" class=\"dataframe\">\n",
       "  <thead>\n",
       "    <tr style=\"text-align: right;\">\n",
       "      <th></th>\n",
       "      <th>DATE</th>\n",
       "      <th>CCN</th>\n",
       "      <th>STATION</th>\n",
       "      <th>NAME</th>\n",
       "      <th>PRCP</th>\n",
       "      <th>TMAX</th>\n",
       "      <th>TMIN</th>\n",
       "      <th>Year</th>\n",
       "      <th>Month</th>\n",
       "      <th>Date</th>\n",
       "      <th>Day</th>\n",
       "      <th>Illum</th>\n",
       "    </tr>\n",
       "  </thead>\n",
       "  <tbody>\n",
       "    <tr>\n",
       "      <th>0</th>\n",
       "      <td>1/1/16</td>\n",
       "      <td>103</td>\n",
       "      <td>USC00186350</td>\n",
       "      <td>NATIONAL ARBORETUM DC, MD US</td>\n",
       "      <td>0.0</td>\n",
       "      <td>56</td>\n",
       "      <td>41</td>\n",
       "      <td>2016</td>\n",
       "      <td>1</td>\n",
       "      <td>1</td>\n",
       "      <td>6</td>\n",
       "      <td>0.60</td>\n",
       "    </tr>\n",
       "    <tr>\n",
       "      <th>1</th>\n",
       "      <td>1/2/16</td>\n",
       "      <td>93</td>\n",
       "      <td>USC00186350</td>\n",
       "      <td>NATIONAL ARBORETUM DC, MD US</td>\n",
       "      <td>0.0</td>\n",
       "      <td>46</td>\n",
       "      <td>31</td>\n",
       "      <td>2016</td>\n",
       "      <td>1</td>\n",
       "      <td>2</td>\n",
       "      <td>7</td>\n",
       "      <td>0.50</td>\n",
       "    </tr>\n",
       "    <tr>\n",
       "      <th>2</th>\n",
       "      <td>1/3/16</td>\n",
       "      <td>100</td>\n",
       "      <td>USC00186350</td>\n",
       "      <td>NATIONAL ARBORETUM DC, MD US</td>\n",
       "      <td>0.0</td>\n",
       "      <td>48</td>\n",
       "      <td>29</td>\n",
       "      <td>2016</td>\n",
       "      <td>1</td>\n",
       "      <td>3</td>\n",
       "      <td>1</td>\n",
       "      <td>0.41</td>\n",
       "    </tr>\n",
       "    <tr>\n",
       "      <th>3</th>\n",
       "      <td>1/4/16</td>\n",
       "      <td>77</td>\n",
       "      <td>USC00186350</td>\n",
       "      <td>NATIONAL ARBORETUM DC, MD US</td>\n",
       "      <td>0.0</td>\n",
       "      <td>53</td>\n",
       "      <td>29</td>\n",
       "      <td>2016</td>\n",
       "      <td>1</td>\n",
       "      <td>4</td>\n",
       "      <td>2</td>\n",
       "      <td>0.32</td>\n",
       "    </tr>\n",
       "    <tr>\n",
       "      <th>4</th>\n",
       "      <td>1/5/16</td>\n",
       "      <td>92</td>\n",
       "      <td>USC00186350</td>\n",
       "      <td>NATIONAL ARBORETUM DC, MD US</td>\n",
       "      <td>0.0</td>\n",
       "      <td>38</td>\n",
       "      <td>15</td>\n",
       "      <td>2016</td>\n",
       "      <td>1</td>\n",
       "      <td>5</td>\n",
       "      <td>3</td>\n",
       "      <td>0.23</td>\n",
       "    </tr>\n",
       "  </tbody>\n",
       "</table>\n",
       "</div>"
      ],
      "text/plain": [
       "     DATE  CCN      STATION                          NAME  PRCP  TMAX  TMIN  \\\n",
       "0  1/1/16  103  USC00186350  NATIONAL ARBORETUM DC, MD US   0.0    56    41   \n",
       "1  1/2/16   93  USC00186350  NATIONAL ARBORETUM DC, MD US   0.0    46    31   \n",
       "2  1/3/16  100  USC00186350  NATIONAL ARBORETUM DC, MD US   0.0    48    29   \n",
       "3  1/4/16   77  USC00186350  NATIONAL ARBORETUM DC, MD US   0.0    53    29   \n",
       "4  1/5/16   92  USC00186350  NATIONAL ARBORETUM DC, MD US   0.0    38    15   \n",
       "\n",
       "   Year  Month  Date  Day  Illum  \n",
       "0  2016      1     1    6   0.60  \n",
       "1  2016      1     2    7   0.50  \n",
       "2  2016      1     3    1   0.41  \n",
       "3  2016      1     4    2   0.32  \n",
       "4  2016      1     5    3   0.23  "
      ]
     },
     "execution_count": 2,
     "metadata": {},
     "output_type": "execute_result"
    }
   ],
   "source": [
    "data.drop(data.columns[[0]], axis=1, inplace=True)\n",
    "data.head()"
   ]
  },
  {
   "cell_type": "code",
   "execution_count": 3,
   "metadata": {},
   "outputs": [],
   "source": [
    "data.rename(columns={\"CCN\": \"CRIME-COUNT\"}, inplace=True)"
   ]
  },
  {
   "cell_type": "code",
   "execution_count": 4,
   "metadata": {},
   "outputs": [],
   "source": [
    "data['bins'] = np.nan"
   ]
  },
  {
   "cell_type": "code",
   "execution_count": 5,
   "metadata": {},
   "outputs": [
    {
     "data": {
      "text/html": [
       "<div>\n",
       "<style scoped>\n",
       "    .dataframe tbody tr th:only-of-type {\n",
       "        vertical-align: middle;\n",
       "    }\n",
       "\n",
       "    .dataframe tbody tr th {\n",
       "        vertical-align: top;\n",
       "    }\n",
       "\n",
       "    .dataframe thead th {\n",
       "        text-align: right;\n",
       "    }\n",
       "</style>\n",
       "<table border=\"1\" class=\"dataframe\">\n",
       "  <thead>\n",
       "    <tr style=\"text-align: right;\">\n",
       "      <th></th>\n",
       "      <th>DATE</th>\n",
       "      <th>CRIME-COUNT</th>\n",
       "      <th>STATION</th>\n",
       "      <th>NAME</th>\n",
       "      <th>PRCP</th>\n",
       "      <th>TMAX</th>\n",
       "      <th>TMIN</th>\n",
       "      <th>Year</th>\n",
       "      <th>Month</th>\n",
       "      <th>Date</th>\n",
       "      <th>Day</th>\n",
       "      <th>Illum</th>\n",
       "      <th>bins</th>\n",
       "    </tr>\n",
       "  </thead>\n",
       "  <tbody>\n",
       "    <tr>\n",
       "      <th>0</th>\n",
       "      <td>1/1/16</td>\n",
       "      <td>103</td>\n",
       "      <td>USC00186350</td>\n",
       "      <td>NATIONAL ARBORETUM DC, MD US</td>\n",
       "      <td>0.0</td>\n",
       "      <td>56</td>\n",
       "      <td>41</td>\n",
       "      <td>2016</td>\n",
       "      <td>1</td>\n",
       "      <td>1</td>\n",
       "      <td>6</td>\n",
       "      <td>0.60</td>\n",
       "      <td>NaN</td>\n",
       "    </tr>\n",
       "    <tr>\n",
       "      <th>1</th>\n",
       "      <td>1/2/16</td>\n",
       "      <td>93</td>\n",
       "      <td>USC00186350</td>\n",
       "      <td>NATIONAL ARBORETUM DC, MD US</td>\n",
       "      <td>0.0</td>\n",
       "      <td>46</td>\n",
       "      <td>31</td>\n",
       "      <td>2016</td>\n",
       "      <td>1</td>\n",
       "      <td>2</td>\n",
       "      <td>7</td>\n",
       "      <td>0.50</td>\n",
       "      <td>NaN</td>\n",
       "    </tr>\n",
       "    <tr>\n",
       "      <th>2</th>\n",
       "      <td>1/3/16</td>\n",
       "      <td>100</td>\n",
       "      <td>USC00186350</td>\n",
       "      <td>NATIONAL ARBORETUM DC, MD US</td>\n",
       "      <td>0.0</td>\n",
       "      <td>48</td>\n",
       "      <td>29</td>\n",
       "      <td>2016</td>\n",
       "      <td>1</td>\n",
       "      <td>3</td>\n",
       "      <td>1</td>\n",
       "      <td>0.41</td>\n",
       "      <td>NaN</td>\n",
       "    </tr>\n",
       "    <tr>\n",
       "      <th>3</th>\n",
       "      <td>1/4/16</td>\n",
       "      <td>77</td>\n",
       "      <td>USC00186350</td>\n",
       "      <td>NATIONAL ARBORETUM DC, MD US</td>\n",
       "      <td>0.0</td>\n",
       "      <td>53</td>\n",
       "      <td>29</td>\n",
       "      <td>2016</td>\n",
       "      <td>1</td>\n",
       "      <td>4</td>\n",
       "      <td>2</td>\n",
       "      <td>0.32</td>\n",
       "      <td>NaN</td>\n",
       "    </tr>\n",
       "    <tr>\n",
       "      <th>4</th>\n",
       "      <td>1/5/16</td>\n",
       "      <td>92</td>\n",
       "      <td>USC00186350</td>\n",
       "      <td>NATIONAL ARBORETUM DC, MD US</td>\n",
       "      <td>0.0</td>\n",
       "      <td>38</td>\n",
       "      <td>15</td>\n",
       "      <td>2016</td>\n",
       "      <td>1</td>\n",
       "      <td>5</td>\n",
       "      <td>3</td>\n",
       "      <td>0.23</td>\n",
       "      <td>NaN</td>\n",
       "    </tr>\n",
       "  </tbody>\n",
       "</table>\n",
       "</div>"
      ],
      "text/plain": [
       "     DATE  CRIME-COUNT      STATION                          NAME  PRCP  TMAX  \\\n",
       "0  1/1/16          103  USC00186350  NATIONAL ARBORETUM DC, MD US   0.0    56   \n",
       "1  1/2/16           93  USC00186350  NATIONAL ARBORETUM DC, MD US   0.0    46   \n",
       "2  1/3/16          100  USC00186350  NATIONAL ARBORETUM DC, MD US   0.0    48   \n",
       "3  1/4/16           77  USC00186350  NATIONAL ARBORETUM DC, MD US   0.0    53   \n",
       "4  1/5/16           92  USC00186350  NATIONAL ARBORETUM DC, MD US   0.0    38   \n",
       "\n",
       "   TMIN  Year  Month  Date  Day  Illum  bins  \n",
       "0    41  2016      1     1    6   0.60   NaN  \n",
       "1    31  2016      1     2    7   0.50   NaN  \n",
       "2    29  2016      1     3    1   0.41   NaN  \n",
       "3    29  2016      1     4    2   0.32   NaN  \n",
       "4    15  2016      1     5    3   0.23   NaN  "
      ]
     },
     "execution_count": 5,
     "metadata": {},
     "output_type": "execute_result"
    }
   ],
   "source": [
    "data.head()"
   ]
  },
  {
   "cell_type": "code",
   "execution_count": 6,
   "metadata": {},
   "outputs": [],
   "source": [
    "data.loc[data['CRIME-COUNT']<=75, ['bins']] = 'VeryLow'\n"
   ]
  },
  {
   "cell_type": "code",
   "execution_count": 7,
   "metadata": {},
   "outputs": [],
   "source": [
    "data.loc[(data['CRIME-COUNT']>=76) & (data['CRIME-COUNT']<=90), ['bins']] = 'Low'"
   ]
  },
  {
   "cell_type": "code",
   "execution_count": 8,
   "metadata": {},
   "outputs": [],
   "source": [
    "data.loc[(data['CRIME-COUNT']>=91) & (data['CRIME-COUNT']<=105), ['bins']] = 'Medium'"
   ]
  },
  {
   "cell_type": "code",
   "execution_count": 9,
   "metadata": {},
   "outputs": [],
   "source": [
    "data.loc[(data['CRIME-COUNT']>=106) & (data['CRIME-COUNT']<=120), ['bins']] = 'High'"
   ]
  },
  {
   "cell_type": "code",
   "execution_count": 10,
   "metadata": {},
   "outputs": [],
   "source": [
    "data.loc[(data['CRIME-COUNT']>=121, ['bins'])] = 'VeryHigh'"
   ]
  },
  {
   "cell_type": "code",
   "execution_count": 11,
   "metadata": {},
   "outputs": [
    {
     "data": {
      "text/plain": [
       "Medium      410\n",
       "Low         374\n",
       "High        212\n",
       "VeryLow     175\n",
       "VeryHigh     78\n",
       "Name: bins, dtype: int64"
      ]
     },
     "execution_count": 11,
     "metadata": {},
     "output_type": "execute_result"
    }
   ],
   "source": [
    "data['bins'].value_counts()"
   ]
  },
  {
   "cell_type": "code",
   "execution_count": 12,
   "metadata": {},
   "outputs": [
    {
     "data": {
      "text/plain": [
       "count    1249.000000\n",
       "mean       93.541233\n",
       "std        17.111019\n",
       "min        28.000000\n",
       "25%        82.000000\n",
       "50%        93.000000\n",
       "75%       105.000000\n",
       "max       146.000000\n",
       "Name: CRIME-COUNT, dtype: float64"
      ]
     },
     "execution_count": 12,
     "metadata": {},
     "output_type": "execute_result"
    }
   ],
   "source": [
    "data['CRIME-COUNT'].describe()"
   ]
  },
  {
   "cell_type": "code",
   "execution_count": 13,
   "metadata": {},
   "outputs": [
    {
     "data": {
      "text/plain": [
       "DATE           False\n",
       "CRIME-COUNT    False\n",
       "STATION        False\n",
       "NAME           False\n",
       "PRCP           False\n",
       "TMAX           False\n",
       "TMIN           False\n",
       "Year           False\n",
       "Month          False\n",
       "Date           False\n",
       "Day            False\n",
       "Illum          False\n",
       "bins           False\n",
       "dtype: bool"
      ]
     },
     "execution_count": 13,
     "metadata": {},
     "output_type": "execute_result"
    }
   ],
   "source": [
    "data.isnull().any()"
   ]
  },
  {
   "cell_type": "code",
   "execution_count": 14,
   "metadata": {},
   "outputs": [],
   "source": [
    "X = data.drop([\"bins\", \"DATE\", \"STATION\", \"NAME\", \"CRIME-COUNT\", \"Year\"], axis=1)\n",
    "y = data[\"bins\"]"
   ]
  },
  {
   "cell_type": "code",
   "execution_count": 15,
   "metadata": {},
   "outputs": [
    {
     "data": {
      "text/html": [
       "<div>\n",
       "<style scoped>\n",
       "    .dataframe tbody tr th:only-of-type {\n",
       "        vertical-align: middle;\n",
       "    }\n",
       "\n",
       "    .dataframe tbody tr th {\n",
       "        vertical-align: top;\n",
       "    }\n",
       "\n",
       "    .dataframe thead th {\n",
       "        text-align: right;\n",
       "    }\n",
       "</style>\n",
       "<table border=\"1\" class=\"dataframe\">\n",
       "  <thead>\n",
       "    <tr style=\"text-align: right;\">\n",
       "      <th></th>\n",
       "      <th>PRCP</th>\n",
       "      <th>TMAX</th>\n",
       "      <th>TMIN</th>\n",
       "      <th>Month</th>\n",
       "      <th>Date</th>\n",
       "      <th>Day</th>\n",
       "      <th>Illum</th>\n",
       "    </tr>\n",
       "  </thead>\n",
       "  <tbody>\n",
       "    <tr>\n",
       "      <th>0</th>\n",
       "      <td>0.0</td>\n",
       "      <td>56</td>\n",
       "      <td>41</td>\n",
       "      <td>1</td>\n",
       "      <td>1</td>\n",
       "      <td>6</td>\n",
       "      <td>0.60</td>\n",
       "    </tr>\n",
       "    <tr>\n",
       "      <th>1</th>\n",
       "      <td>0.0</td>\n",
       "      <td>46</td>\n",
       "      <td>31</td>\n",
       "      <td>1</td>\n",
       "      <td>2</td>\n",
       "      <td>7</td>\n",
       "      <td>0.50</td>\n",
       "    </tr>\n",
       "    <tr>\n",
       "      <th>2</th>\n",
       "      <td>0.0</td>\n",
       "      <td>48</td>\n",
       "      <td>29</td>\n",
       "      <td>1</td>\n",
       "      <td>3</td>\n",
       "      <td>1</td>\n",
       "      <td>0.41</td>\n",
       "    </tr>\n",
       "    <tr>\n",
       "      <th>3</th>\n",
       "      <td>0.0</td>\n",
       "      <td>53</td>\n",
       "      <td>29</td>\n",
       "      <td>1</td>\n",
       "      <td>4</td>\n",
       "      <td>2</td>\n",
       "      <td>0.32</td>\n",
       "    </tr>\n",
       "    <tr>\n",
       "      <th>4</th>\n",
       "      <td>0.0</td>\n",
       "      <td>38</td>\n",
       "      <td>15</td>\n",
       "      <td>1</td>\n",
       "      <td>5</td>\n",
       "      <td>3</td>\n",
       "      <td>0.23</td>\n",
       "    </tr>\n",
       "  </tbody>\n",
       "</table>\n",
       "</div>"
      ],
      "text/plain": [
       "   PRCP  TMAX  TMIN  Month  Date  Day  Illum\n",
       "0   0.0    56    41      1     1    6   0.60\n",
       "1   0.0    46    31      1     2    7   0.50\n",
       "2   0.0    48    29      1     3    1   0.41\n",
       "3   0.0    53    29      1     4    2   0.32\n",
       "4   0.0    38    15      1     5    3   0.23"
      ]
     },
     "execution_count": 15,
     "metadata": {},
     "output_type": "execute_result"
    }
   ],
   "source": [
    "X.head()"
   ]
  },
  {
   "cell_type": "code",
   "execution_count": 16,
   "metadata": {},
   "outputs": [],
   "source": [
    "X['TMAX'] = X['TMAX'].astype(float)\n",
    "X['TMIN'] = X['TMIN'].astype(float)\n",
    "X['Month'] = X['Month'].astype(float)\n",
    "X['Date'] = X['Date'].astype(float)\n",
    "X['Day'] = X['Illum'].astype(float)"
   ]
  },
  {
   "cell_type": "code",
   "execution_count": 17,
   "metadata": {},
   "outputs": [],
   "source": [
    "X_train, X_test, y_train, y_test = train_test_split(X, y)"
   ]
  },
  {
   "cell_type": "code",
   "execution_count": 18,
   "metadata": {},
   "outputs": [],
   "source": [
    "X_scaler = MinMaxScaler().fit(X_train)\n",
    "X_train_scaled = X_scaler.transform(X_train)\n",
    "X_test_scaled = X_scaler.transform(X_test)"
   ]
  },
  {
   "cell_type": "code",
   "execution_count": 19,
   "metadata": {},
   "outputs": [],
   "source": [
    "label_encoder = LabelEncoder()\n",
    "label_encoder.fit(y_train)\n",
    "encoded_y_train = label_encoder.transform(y_train)\n",
    "encoded_y_test = label_encoder.transform(y_test)"
   ]
  },
  {
   "cell_type": "code",
   "execution_count": 20,
   "metadata": {},
   "outputs": [],
   "source": [
    "y_train_categorical = to_categorical(encoded_y_train)\n",
    "y_test_categorical = to_categorical(encoded_y_test)"
   ]
  },
  {
   "cell_type": "code",
   "execution_count": 21,
   "metadata": {},
   "outputs": [],
   "source": [
    "from tensorflow.keras.models import Sequential\n",
    "from tensorflow.keras.layers import Dense"
   ]
  },
  {
   "cell_type": "code",
   "execution_count": 22,
   "metadata": {},
   "outputs": [
    {
     "name": "stderr",
     "output_type": "stream",
     "text": [
      "WARNING: Logging before flag parsing goes to stderr.\n",
      "W0817 11:31:39.719125 4597863872 deprecation.py:506] From /anaconda3/lib/python3.7/site-packages/tensorflow/python/ops/init_ops.py:1251: calling VarianceScaling.__init__ (from tensorflow.python.ops.init_ops) with dtype is deprecated and will be removed in a future version.\n",
      "Instructions for updating:\n",
      "Call initializer instance with the dtype argument instead of passing it to the constructor\n"
     ]
    }
   ],
   "source": [
    "model = Sequential()\n",
    "model.add(Dense(units=100, activation='relu', input_dim=7))\n",
    "model.add(Dense(units=100, activation='tanh'))\n",
    "model.add(Dense(units=100, activation='tanh'))\n",
    "model.add(Dense(units=5, activation='softmax'))"
   ]
  },
  {
   "cell_type": "code",
   "execution_count": 23,
   "metadata": {},
   "outputs": [],
   "source": [
    "model.compile(optimizer='adam',\n",
    "              loss='categorical_crossentropy',\n",
    "              metrics=['accuracy'])"
   ]
  },
  {
   "cell_type": "code",
   "execution_count": 24,
   "metadata": {},
   "outputs": [
    {
     "name": "stdout",
     "output_type": "stream",
     "text": [
      "Model: \"sequential\"\n",
      "_________________________________________________________________\n",
      "Layer (type)                 Output Shape              Param #   \n",
      "=================================================================\n",
      "dense (Dense)                (None, 100)               800       \n",
      "_________________________________________________________________\n",
      "dense_1 (Dense)              (None, 100)               10100     \n",
      "_________________________________________________________________\n",
      "dense_2 (Dense)              (None, 100)               10100     \n",
      "_________________________________________________________________\n",
      "dense_3 (Dense)              (None, 5)                 505       \n",
      "=================================================================\n",
      "Total params: 21,505\n",
      "Trainable params: 21,505\n",
      "Non-trainable params: 0\n",
      "_________________________________________________________________\n"
     ]
    }
   ],
   "source": [
    "model.summary()"
   ]
  },
  {
   "cell_type": "code",
   "execution_count": 25,
   "metadata": {},
   "outputs": [
    {
     "name": "stdout",
     "output_type": "stream",
     "text": [
      "Epoch 1/60\n",
      "936/936 - 0s - loss: 1.5055 - acc: 0.3312\n",
      "Epoch 2/60\n",
      "936/936 - 0s - loss: 1.4439 - acc: 0.3675\n",
      "Epoch 3/60\n",
      "936/936 - 0s - loss: 1.4188 - acc: 0.3739\n",
      "Epoch 4/60\n",
      "936/936 - 0s - loss: 1.3990 - acc: 0.3868\n",
      "Epoch 5/60\n",
      "936/936 - 0s - loss: 1.3865 - acc: 0.3921\n",
      "Epoch 6/60\n",
      "936/936 - 0s - loss: 1.3793 - acc: 0.3974\n",
      "Epoch 7/60\n",
      "936/936 - 0s - loss: 1.3683 - acc: 0.3814\n",
      "Epoch 8/60\n",
      "936/936 - 0s - loss: 1.3612 - acc: 0.3964\n",
      "Epoch 9/60\n",
      "936/936 - 0s - loss: 1.3456 - acc: 0.3953\n",
      "Epoch 10/60\n",
      "936/936 - 0s - loss: 1.3482 - acc: 0.4028\n",
      "Epoch 11/60\n",
      "936/936 - 0s - loss: 1.3465 - acc: 0.4049\n",
      "Epoch 12/60\n",
      "936/936 - 0s - loss: 1.3405 - acc: 0.4145\n",
      "Epoch 13/60\n",
      "936/936 - 0s - loss: 1.3310 - acc: 0.4124\n",
      "Epoch 14/60\n",
      "936/936 - 0s - loss: 1.3337 - acc: 0.4081\n",
      "Epoch 15/60\n",
      "936/936 - 0s - loss: 1.3296 - acc: 0.4049\n",
      "Epoch 16/60\n",
      "936/936 - 0s - loss: 1.3335 - acc: 0.4017\n",
      "Epoch 17/60\n",
      "936/936 - 0s - loss: 1.3243 - acc: 0.4188\n",
      "Epoch 18/60\n",
      "936/936 - 0s - loss: 1.3231 - acc: 0.4060\n",
      "Epoch 19/60\n",
      "936/936 - 0s - loss: 1.3147 - acc: 0.4306\n",
      "Epoch 20/60\n",
      "936/936 - 0s - loss: 1.3100 - acc: 0.4263\n",
      "Epoch 21/60\n",
      "936/936 - 0s - loss: 1.3097 - acc: 0.4338\n",
      "Epoch 22/60\n",
      "936/936 - 0s - loss: 1.3112 - acc: 0.4231\n",
      "Epoch 23/60\n",
      "936/936 - 0s - loss: 1.3077 - acc: 0.4316\n",
      "Epoch 24/60\n",
      "936/936 - 0s - loss: 1.2995 - acc: 0.4327\n",
      "Epoch 25/60\n",
      "936/936 - 0s - loss: 1.3079 - acc: 0.4284\n",
      "Epoch 26/60\n",
      "936/936 - 0s - loss: 1.3050 - acc: 0.4135\n",
      "Epoch 27/60\n",
      "936/936 - 0s - loss: 1.2904 - acc: 0.4327\n",
      "Epoch 28/60\n",
      "936/936 - 0s - loss: 1.2971 - acc: 0.4274\n",
      "Epoch 29/60\n",
      "936/936 - 0s - loss: 1.2971 - acc: 0.4348\n",
      "Epoch 30/60\n",
      "936/936 - 0s - loss: 1.2890 - acc: 0.4391\n",
      "Epoch 31/60\n",
      "936/936 - 0s - loss: 1.2837 - acc: 0.4391\n",
      "Epoch 32/60\n",
      "936/936 - 0s - loss: 1.2812 - acc: 0.4370\n",
      "Epoch 33/60\n",
      "936/936 - 0s - loss: 1.2720 - acc: 0.4412\n",
      "Epoch 34/60\n",
      "936/936 - 0s - loss: 1.2784 - acc: 0.4380\n",
      "Epoch 35/60\n",
      "936/936 - 0s - loss: 1.2873 - acc: 0.4199\n",
      "Epoch 36/60\n",
      "936/936 - 0s - loss: 1.2762 - acc: 0.4306\n",
      "Epoch 37/60\n",
      "936/936 - 0s - loss: 1.2772 - acc: 0.4380\n",
      "Epoch 38/60\n",
      "936/936 - 0s - loss: 1.2715 - acc: 0.4423\n",
      "Epoch 39/60\n",
      "936/936 - 0s - loss: 1.2760 - acc: 0.4455\n",
      "Epoch 40/60\n",
      "936/936 - 0s - loss: 1.2643 - acc: 0.4498\n",
      "Epoch 41/60\n",
      "936/936 - 0s - loss: 1.2609 - acc: 0.4551\n",
      "Epoch 42/60\n",
      "936/936 - 0s - loss: 1.2541 - acc: 0.4487\n",
      "Epoch 43/60\n",
      "936/936 - 0s - loss: 1.2565 - acc: 0.4466\n",
      "Epoch 44/60\n",
      "936/936 - 0s - loss: 1.2518 - acc: 0.4541\n",
      "Epoch 45/60\n",
      "936/936 - 0s - loss: 1.2725 - acc: 0.4444\n",
      "Epoch 46/60\n",
      "936/936 - 0s - loss: 1.2475 - acc: 0.4551\n",
      "Epoch 47/60\n",
      "936/936 - 0s - loss: 1.2498 - acc: 0.4637\n",
      "Epoch 48/60\n",
      "936/936 - 0s - loss: 1.2456 - acc: 0.4444\n",
      "Epoch 49/60\n",
      "936/936 - 0s - loss: 1.2456 - acc: 0.4466\n",
      "Epoch 50/60\n",
      "936/936 - 0s - loss: 1.2380 - acc: 0.4370\n",
      "Epoch 51/60\n",
      "936/936 - 0s - loss: 1.2355 - acc: 0.4573\n",
      "Epoch 52/60\n",
      "936/936 - 0s - loss: 1.2421 - acc: 0.4466\n",
      "Epoch 53/60\n",
      "936/936 - 0s - loss: 1.2408 - acc: 0.4722\n",
      "Epoch 54/60\n",
      "936/936 - 0s - loss: 1.2353 - acc: 0.4626\n",
      "Epoch 55/60\n",
      "936/936 - 0s - loss: 1.2266 - acc: 0.4637\n",
      "Epoch 56/60\n",
      "936/936 - 0s - loss: 1.2374 - acc: 0.4530\n",
      "Epoch 57/60\n",
      "936/936 - 0s - loss: 1.2425 - acc: 0.4551\n",
      "Epoch 58/60\n",
      "936/936 - 0s - loss: 1.2305 - acc: 0.4615\n",
      "Epoch 59/60\n",
      "936/936 - 0s - loss: 1.2260 - acc: 0.4541\n",
      "Epoch 60/60\n",
      "936/936 - 0s - loss: 1.2401 - acc: 0.4594\n"
     ]
    },
    {
     "data": {
      "text/plain": [
       "<tensorflow.python.keras.callbacks.History at 0x1a30e75a90>"
      ]
     },
     "execution_count": 25,
     "metadata": {},
     "output_type": "execute_result"
    }
   ],
   "source": [
    "model.fit(\n",
    "    X_train_scaled,\n",
    "    y_train_categorical,\n",
    "    epochs=60,\n",
    "    shuffle=True,\n",
    "    verbose=2\n",
    ")"
   ]
  },
  {
   "cell_type": "code",
   "execution_count": 26,
   "metadata": {},
   "outputs": [
    {
     "data": {
      "text/plain": [
       "PRCP     float64\n",
       "TMAX     float64\n",
       "TMIN     float64\n",
       "Month    float64\n",
       "Date     float64\n",
       "Day      float64\n",
       "Illum    float64\n",
       "dtype: object"
      ]
     },
     "execution_count": 26,
     "metadata": {},
     "output_type": "execute_result"
    }
   ],
   "source": [
    "X.dtypes"
   ]
  },
  {
   "cell_type": "code",
   "execution_count": 27,
   "metadata": {},
   "outputs": [
    {
     "data": {
      "text/plain": [
       "array([[0.125     , 0.8625    , 0.67123288, ..., 0.06666667, 0.03      ,\n",
       "        0.03      ],\n",
       "       [0.        , 0.4125    , 0.46575342, ..., 0.06666667, 0.12      ,\n",
       "        0.12      ],\n",
       "       [0.        , 0.2875    , 0.2739726 , ..., 0.2       , 0.55      ,\n",
       "        0.55      ],\n",
       "       ...,\n",
       "       [0.        , 0.6       , 0.45205479, ..., 0.93333333, 0.67      ,\n",
       "        0.67      ],\n",
       "       [0.        , 0.925     , 0.82191781, ..., 0.6       , 0.48      ,\n",
       "        0.48      ],\n",
       "       [0.        , 0.8       , 0.69863014, ..., 0.56666667, 0.94      ,\n",
       "        0.94      ]])"
      ]
     },
     "execution_count": 27,
     "metadata": {},
     "output_type": "execute_result"
    }
   ],
   "source": [
    "X_train_scaled"
   ]
  },
  {
   "cell_type": "code",
   "execution_count": 28,
   "metadata": {},
   "outputs": [
    {
     "data": {
      "text/plain": [
       "(936, 5)"
      ]
     },
     "execution_count": 28,
     "metadata": {},
     "output_type": "execute_result"
    }
   ],
   "source": [
    "y_train_categorical.shape"
   ]
  },
  {
   "cell_type": "code",
   "execution_count": null,
   "metadata": {},
   "outputs": [],
   "source": []
  }
 ],
 "metadata": {
  "kernelspec": {
   "display_name": "Python 3",
   "language": "python",
   "name": "python3"
  },
  "language_info": {
   "codemirror_mode": {
    "name": "ipython",
    "version": 3
   },
   "file_extension": ".py",
   "mimetype": "text/x-python",
   "name": "python",
   "nbconvert_exporter": "python",
   "pygments_lexer": "ipython3",
   "version": "3.7.3"
  }
 },
 "nbformat": 4,
 "nbformat_minor": 2
}
